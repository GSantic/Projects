{
 "cells": [
  {
   "cell_type": "code",
   "execution_count": 2,
   "metadata": {},
   "outputs": [],
   "source": [
    "import pandas as pd\n",
    "import numpy as np\n",
    "import matplotlib as mlt\n",
    "import seaborn as sns"
   ]
  },
  {
   "cell_type": "code",
   "execution_count": 4,
   "metadata": {},
   "outputs": [
    {
     "name": "stdout",
     "output_type": "stream",
     "text": [
      "<class 'pandas.core.frame.DataFrame'>\n",
      "RangeIndex: 164 entries, 0 to 163\n",
      "Data columns (total 80 columns):\n",
      " #   Column                Non-Null Count  Dtype  \n",
      "---  ------                --------------  -----  \n",
      " 0   AreaType              164 non-null    object \n",
      " 1   AreaName              164 non-null    object \n",
      " 2   01/07/2012_dsr        109 non-null    float64\n",
      " 3   01/07/2012_lower95CI  109 non-null    float64\n",
      " 4   01/07/2012_upper95CI  109 non-null    float64\n",
      " 5   01/10/2012_dsr        109 non-null    float64\n",
      " 6   01/10/2012_lower95CI  109 non-null    float64\n",
      " 7   01/10/2012_upper95CI  109 non-null    float64\n",
      " 8   01/01/2013_dsr        109 non-null    float64\n",
      " 9   01/01/2013_lower95CI  109 non-null    float64\n",
      " 10  01/01/2013_upper95CI  109 non-null    float64\n",
      " 11  01/04/2013_dsr        109 non-null    float64\n",
      " 12  01/04/2013_lower95CI  109 non-null    float64\n",
      " 13  01/04/2013_upper95CI  109 non-null    float64\n",
      " 14  01/07/2013_dsr        156 non-null    float64\n",
      " 15  01/07/2013_lower95CI  156 non-null    float64\n",
      " 16  01/07/2013_upper95CI  156 non-null    float64\n",
      " 17  01/10/2013_dsr        156 non-null    float64\n",
      " 18  01/10/2013_lower95CI  156 non-null    float64\n",
      " 19  01/10/2013_upper95CI  156 non-null    float64\n",
      " 20  01/01/2014_dsr        156 non-null    float64\n",
      " 21  01/01/2014_lower95CI  156 non-null    float64\n",
      " 22  01/01/2014_upper95CI  156 non-null    float64\n",
      " 23  01/04/2014_dsr        156 non-null    float64\n",
      " 24  01/04/2014_lower95CI  156 non-null    float64\n",
      " 25  01/04/2014_upper95CI  156 non-null    float64\n",
      " 26  01/07/2014_dsr        156 non-null    float64\n",
      " 27  01/07/2014_lower95CI  156 non-null    float64\n",
      " 28  01/07/2014_upper95CI  156 non-null    float64\n",
      " 29  01/10/2014_dsr        156 non-null    float64\n",
      " 30  01/10/2014_lower95CI  156 non-null    float64\n",
      " 31  01/10/2014_upper95CI  156 non-null    float64\n",
      " 32  01/01/2015_dsr        156 non-null    float64\n",
      " 33  01/01/2015_lower95CI  156 non-null    float64\n",
      " 34  01/01/2015_upper95CI  156 non-null    float64\n",
      " 35  01/04/2015_dsr        156 non-null    float64\n",
      " 36  01/04/2015_lower95CI  156 non-null    float64\n",
      " 37  01/04/2015_upper95CI  156 non-null    float64\n",
      " 38  01/07/2015_dsr        156 non-null    float64\n",
      " 39  01/07/2015_lower95CI  156 non-null    float64\n",
      " 40  01/07/2015_upper95CI  156 non-null    float64\n",
      " 41  01/10/2015_dsr        156 non-null    float64\n",
      " 42  01/10/2015_lower95CI  156 non-null    float64\n",
      " 43  01/10/2015_upper95CI  156 non-null    float64\n",
      " 44  01/01/2016_dsr        156 non-null    float64\n",
      " 45  01/01/2016_lower95CI  156 non-null    float64\n",
      " 46  01/01/2016_upper95CI  156 non-null    float64\n",
      " 47  01/04/2016_dsr        156 non-null    float64\n",
      " 48  01/04/2016_lower95CI  156 non-null    float64\n",
      " 49  01/04/2016_upper95CI  156 non-null    float64\n",
      " 50  01/07/2016_dsr        156 non-null    float64\n",
      " 51  01/07/2016_lower95CI  156 non-null    float64\n",
      " 52  01/07/2016_upper95CI  156 non-null    float64\n",
      " 53  01/10/2016_dsr        156 non-null    float64\n",
      " 54  01/10/2016_lower95CI  156 non-null    float64\n",
      " 55  01/10/2016_upper95CI  156 non-null    float64\n",
      " 56  01/01/2017_dsr        156 non-null    float64\n",
      " 57  01/01/2017_lower95CI  156 non-null    float64\n",
      " 58  01/01/2017_upper95CI  156 non-null    float64\n",
      " 59  01/04/2017_dsr        156 non-null    float64\n",
      " 60  01/04/2017_lower95CI  156 non-null    float64\n",
      " 61  01/04/2017_upper95CI  156 non-null    float64\n",
      " 62  01/07/2017_dsr        156 non-null    float64\n",
      " 63  01/07/2017_lower95CI  156 non-null    float64\n",
      " 64  01/07/2017_upper95CI  156 non-null    float64\n",
      " 65  01/10/2017_dsr        156 non-null    float64\n",
      " 66  01/10/2017_lower95CI  156 non-null    float64\n",
      " 67  01/10/2017_upper95CI  156 non-null    float64\n",
      " 68  01/01/2018_dsr        156 non-null    float64\n",
      " 69  01/01/2018_lower95CI  156 non-null    float64\n",
      " 70  01/01/2018_upper95CI  156 non-null    float64\n",
      " 71  01/04/2018_dsr        156 non-null    float64\n",
      " 72  01/04/2018_lower95CI  156 non-null    float64\n",
      " 73  01/04/2018_upper95CI  156 non-null    float64\n",
      " 74  01/07/2018_dsr        146 non-null    float64\n",
      " 75  01/07/2018_lower95CI  146 non-null    float64\n",
      " 76  01/07/2018_upper95CI  146 non-null    float64\n",
      " 77  01/10/2018_dsr        156 non-null    float64\n",
      " 78  01/10/2018_lower95CI  156 non-null    float64\n",
      " 79  01/10/2018_upper95CI  156 non-null    float64\n",
      "dtypes: float64(78), object(2)\n",
      "memory usage: 102.6+ KB\n"
     ]
    }
   ],
   "source": [
    "copd_df=pd.read_csv('copd-rates-1-7-12-30-09-18-1.csv')\n",
    "copd_df.info()"
   ]
  }
 ],
 "metadata": {
  "interpreter": {
   "hash": "b2e15a14fba5fe8a3d47a1a16e85264a5b2e6d4b48f9e0b4d30d7ece3df9e55c"
  },
  "kernelspec": {
   "display_name": "Python 3.9.9 64-bit (windows store)",
   "language": "python",
   "name": "python3"
  },
  "language_info": {
   "codemirror_mode": {
    "name": "ipython",
    "version": 3
   },
   "file_extension": ".py",
   "mimetype": "text/x-python",
   "name": "python",
   "nbconvert_exporter": "python",
   "pygments_lexer": "ipython3",
   "version": "3.9.9"
  },
  "orig_nbformat": 4
 },
 "nbformat": 4,
 "nbformat_minor": 2
}
